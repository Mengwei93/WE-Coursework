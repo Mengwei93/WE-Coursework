{
 "cells": [
  {
   "cell_type": "code",
   "execution_count": 1,
   "metadata": {
    "collapsed": true
   },
   "outputs": [],
   "source": [
    "import numpy as np\n",
    "import pandas as pd\n",
    "from sklearn import metrics\n",
    "from sklearn.ensemble import RandomForestClassifier\n",
    "from sklearn import preprocessing\n",
    "from sklearn import metrics\n",
    "from sklearn.linear_model import LogisticRegression\n",
    "from sklearn import metrics"
   ]
  },
  {
   "cell_type": "code",
   "execution_count": 2,
   "metadata": {
    "collapsed": true
   },
   "outputs": [],
   "source": [
    "train = np.load('/Users/mengwei.zhang/Desktop/COMPGW02 WE/Couesework/data/simple_npy/train2.npy')\n",
    "test = np.load('/Users/mengwei.zhang/Desktop/COMPGW02 WE/Couesework/data/simple_npy/test2.npy')\n",
    "val = np.load('/Users/mengwei.zhang/Desktop/COMPGW02 WE/Couesework/data/simple_npy/validation2.npy')"
   ]
  },
  {
   "cell_type": "code",
   "execution_count": 3,
   "metadata": {},
   "outputs": [
    {
     "name": "stdout",
     "output_type": "stream",
     "text": [
      "(2430981, 96) (303375, 94) (303925, 96)\n"
     ]
    }
   ],
   "source": [
    "print(train.shape, test.shape, val.shape)"
   ]
  },
  {
   "cell_type": "code",
   "execution_count": 3,
   "metadata": {
    "collapsed": true
   },
   "outputs": [],
   "source": [
    "data = pd.read_csv('/Users/mengwei.zhang/Desktop/COMPGW02 WE/Couesework/data/OneDrive_2018-02-25/train.csv')\n",
    "data_test = pd.read_csv('/Users/mengwei.zhang/Desktop/COMPGW02 WE/Couesework/data/OneDrive_2018-02-25/test.csv')\n",
    "data_val = pd.read_csv('/Users/mengwei.zhang/Desktop/COMPGW02 WE/Couesework/data/OneDrive_2018-02-25/validation.csv')"
   ]
  },
  {
   "cell_type": "code",
   "execution_count": 4,
   "metadata": {
    "collapsed": true
   },
   "outputs": [],
   "source": [
    "trainBidID = train[:,3:4]\n",
    "trainSlotPrice = train[:,11:12]\n",
    "trainPayprice = train[:,12:13]\n",
    "trainY  = data['click']\n",
    "trainY  = trainY.as_matrix()\n",
    "trainX = np.delete(train, [0,3,11,12], 1)\n",
    "\n",
    "valBidID = val[:,3:4]\n",
    "valSlotPrice = val[:,11:12]\n",
    "valPayprice = val[:,12:13]\n",
    "valY = data_val['click']\n",
    "valY = valY.as_matrix()\n",
    "valX = np.delete(val,[0,3,11,12], 1)\n",
    "\n",
    "testBidID = test[:,2]\n",
    "testSlotPrice = test[:,10:11]\n",
    "testX = np.delete(test,[2,10], 1)\n"
   ]
  },
  {
   "cell_type": "code",
   "execution_count": 6,
   "metadata": {},
   "outputs": [
    {
     "name": "stdout",
     "output_type": "stream",
     "text": [
      "[[1.027355427358648 1.295967699075605 -1.4440409473966087 ...,\n",
      "  -0.003571024532507318 -0.07617580682996486 0.22393517197120946]\n",
      " [-0.9189059496115936 0.9914194408769209 0.8682541992302854 ...,\n",
      "  -0.003571024532507318 -0.07617580682996486 0.22393517197120946]\n",
      " [0.05422473887352723 -0.0744994628184733 -1.0717222373465156 ...,\n",
      "  -0.003571024532507318 -0.07617580682996486 0.22393517197120946]\n",
      " ..., \n",
      " [-0.4323406053690331 0.5345970535788949 1.55410445458572 ...,\n",
      "  -0.003571024532507318 -0.07617580682996486 0.22393517197120946]\n",
      " [-1.4054712938541538 1.295967699075605 -1.4538388081874007 ...,\n",
      "  -0.003571024532507318 -0.07617580682996486 0.22393517197120946]\n",
      " [-0.4323406053690331 1.448241828174947 -0.5426377546437517 ...,\n",
      "  -0.003571024532507318 -0.07617580682996486 0.22393517197120946]]\n"
     ]
    }
   ],
   "source": [
    "data_mean = np.reshape(np.mean(trainX[:, 0: 92], axis = 0, dtype=np.float64), (1, 92))\n",
    "data_std = np.reshape(np.std(trainX[:, 0: 92], axis = 0, dtype=np.float64), (1, 92))\n",
    "\n",
    "trainX = (trainX - data_mean) / data_std\n",
    "print(trainX)"
   ]
  },
  {
   "cell_type": "code",
   "execution_count": 7,
   "metadata": {},
   "outputs": [
    {
     "name": "stdout",
     "output_type": "stream",
     "text": [
      "[[0.5431006114917741 0.9898004770800681 -0.6887142771319037 ...,\n",
      "  -0.004056069256708338 -0.07621016257974748 0.2237720668890281]\n",
      " [-0.9176711540903316 1.1421531674133978 -0.6887142771319037 ...,\n",
      "  -0.004056069256708338 -0.07621016257974748 0.2237720668890281]\n",
      " [0.5431006114917741 -0.8384318069198876 -1.443474926675113 ...,\n",
      "  -0.004056069256708338 -0.07621016257974748 0.2237720668890281]\n",
      " ..., \n",
      " [0.05617668963107223 0.2280370254134199 -0.6789121907741997 ...,\n",
      "  -0.004056069256708338 -0.07621016257974748 0.2237720668890281]\n",
      " [1.516948455213178 -0.686079116586558 -0.6789121907741997 ...,\n",
      "  -0.004056069256708338 -0.07621016257974748 0.2237720668890281]\n",
      " [1.516948455213178 -2.057253329586525 0.6541715538735466 ...,\n",
      "  -0.004056069256708338 -0.07621016257974748 0.2237720668890281]]\n"
     ]
    }
   ],
   "source": [
    "data_mean1 = np.reshape(np.mean(valX[:, 0: 92], axis = 0, dtype=np.float64), (1, 92))\n",
    "data_std1 = np.reshape(np.std(valX[:, 0: 92], axis = 0, dtype=np.float64), (1, 92))\n",
    "\n",
    "valX = (valX - data_mean1) / data_std1\n",
    "print(valX)"
   ]
  },
  {
   "cell_type": "code",
   "execution_count": 8,
   "metadata": {},
   "outputs": [
    {
     "name": "stdout",
     "output_type": "stream",
     "text": [
      "[[-1.4024834953788814 -0.22683252500681306 -0.03634533371689287 ...,\n",
      "  -0.002567595079336817 -0.07597299349898151 0.22260197161660294]\n",
      " [0.05596633463906249 0.07753814635683079 -1.4563106379824846 ...,\n",
      "  -0.002567595079336817 -0.07597299349898151 -4.49232319344567]\n",
      " [1.0282662213176916 0.8384648247659404 -1.201696169631413 ...,\n",
      "  -0.002567595079336817 -0.07597299349898151 0.22260197161660294]\n",
      " ..., \n",
      " [-0.43018360870025213 -2.053056553188676 -0.6826743687619209 ...,\n",
      "  -0.002567595079336817 -0.07597299349898151 0.22260197161660294]\n",
      " [1.5144161646570062 -0.8355738677341007 -1.4661035021498336 ...,\n",
      "  -0.002567595079336817 -0.07597299349898151 -4.49232319344567]\n",
      " [1.0282662213176916 -0.22683252500681306 -1.4465177738151358 ...,\n",
      "  -0.002567595079336817 -0.07597299349898151 0.22260197161660294]]\n"
     ]
    }
   ],
   "source": [
    "data_mean2 = np.reshape(np.mean(testX[:, 0: 92], axis = 0, dtype=np.float64), (1, 92))\n",
    "data_std2 = np.reshape(np.std(testX[:, 0: 92], axis = 0, dtype=np.float64), (1, 92))\n",
    "\n",
    "testX = (testX - data_mean2) / data_std2\n",
    "print(testX)"
   ]
  },
  {
   "cell_type": "code",
   "execution_count": 9,
   "metadata": {
    "collapsed": true
   },
   "outputs": [],
   "source": [
    "# trainBidID = train[:,3:4]\n",
    "# trainSlotPrice = train[:,11:12]\n",
    "# trainPayprice = train[:,12:13]\n",
    "# # trainY  = data['click']\n",
    "# # trainY  = trainY.as_matrix()\n",
    "# trainY = train[:,0:1]\n",
    "# trainY = trainY.astype(float)\n",
    "\n",
    "# trainX = np.delete(train, [0,3,11,12], 1)\n",
    "# trainX = trainX.astype(float)\n",
    "\n",
    "# valBidID = val[:,3:4]\n",
    "# valSlotPrice = val[:,11:12]\n",
    "# valPayprice = val[:,12:13]\n",
    "# # valY = data_val['click']\n",
    "# # valY = valY.as_matrix()\n",
    "\n",
    "# valY = val[:,0:1]\n",
    "# valY = valY.astype(float)\n",
    "\n",
    "# valX = np.delete(val,[0,3,11,12], 1)\n",
    "# valX = valX.astype(float)\n",
    "\n",
    "# testBidID = test[:,2]\n",
    "# testSlotPrice = test[:,10:11]\n",
    "# testX = np.delete(test,[2,10], 1)\n",
    "# testX = testX.astype(float)\n"
   ]
  },
  {
   "cell_type": "code",
   "execution_count": 10,
   "metadata": {},
   "outputs": [
    {
     "name": "stdout",
     "output_type": "stream",
     "text": [
      "object\n",
      "int64\n",
      "object\n"
     ]
    }
   ],
   "source": [
    "print(trainX.dtype)\n",
    "print(trainY.dtype)\n",
    "print(testX.dtype)"
   ]
  },
  {
   "cell_type": "markdown",
   "metadata": {},
   "source": [
    "# Models "
   ]
  },
  {
   "cell_type": "markdown",
   "metadata": {},
   "source": [
    "## Logistic Regression"
   ]
  },
  {
   "cell_type": "code",
   "execution_count": 5,
   "metadata": {},
   "outputs": [
    {
     "name": "stderr",
     "output_type": "stream",
     "text": [
      "/Users/mengwei.zhang/anaconda3/lib/python3.6/site-packages/sklearn/linear_model/sag.py:326: ConvergenceWarning: The max_iter was reached which means the coef_ did not converge\n",
      "  \"the coef_ did not converge\", ConvergenceWarning)\n"
     ]
    }
   ],
   "source": [
    "neg_w=np.sum(trainY)/len(trainY)\n",
    "pos_w=1-neg_w\n",
    "clf = LogisticRegression(class_weight={1:pos_w,0:neg_w},solver = 'sag')\n",
    "clf = clf.fit(trainX,trainY)\n",
    "predict_y = clf.predict(valX)"
   ]
  },
  {
   "cell_type": "code",
   "execution_count": 6,
   "metadata": {},
   "outputs": [
    {
     "name": "stdout",
     "output_type": "stream",
     "text": [
      "111 129861 202\n"
     ]
    }
   ],
   "source": [
    "counter = 0\n",
    "for i in range(len(valY)):\n",
    "    if valY[i] == 1 and predict_y[i] == 1:\n",
    "        counter += 1\n",
    "print(counter,sum(predict_y),sum(valY))\n"
   ]
  },
  {
   "cell_type": "code",
   "execution_count": 8,
   "metadata": {
    "collapsed": true
   },
   "outputs": [],
   "source": [
    "from sklearn.metrics import mean_squared_error "
   ]
  },
  {
   "cell_type": "code",
   "execution_count": 11,
   "metadata": {},
   "outputs": [
    {
     "name": "stdout",
     "output_type": "stream",
     "text": [
      "[0 1 0 ..., 1 0 0]\n"
     ]
    }
   ],
   "source": [
    "print(predict_y)"
   ]
  },
  {
   "cell_type": "code",
   "execution_count": 12,
   "metadata": {},
   "outputs": [
    {
     "name": "stdout",
     "output_type": "stream",
     "text": [
      "The AUC is: 0.561153241735\n",
      "RMSE on test dataset = 0.43\n"
     ]
    }
   ],
   "source": [
    "fpr, tpr, thresholds = metrics.roc_curve(valY, predict_y)\n",
    "# fpr: false positive rate\n",
    "# tpr: true positive rate\n",
    "print (\"The AUC is:\",metrics.auc(fpr, tpr))\n",
    "print(\"MSE on test dataset = %.2f\" % (mean_squared_error(valY, predict_y)))\n",
    "print (\"RMSE on test dataset = %.2f\" % (rmse(valY, predict_y)))"
   ]
  },
  {
   "cell_type": "code",
   "execution_count": 14,
   "metadata": {
    "collapsed": true
   },
   "outputs": [],
   "source": [
    "def get_pro(dataframe):\n",
    "    x1 = np.zeros(len(dataframe))\n",
    "    xx1 = clf.predict_proba(dataframe)\n",
    "    for i in range(len(xx1)):\n",
    "        x1[i] = xx1[i][1]\n",
    "    return x1\n",
    "\n",
    "trainProb =get_pro(trainX)\n",
    "ValProb = get_pro(valX)\n"
   ]
  },
  {
   "cell_type": "code",
   "execution_count": 15,
   "metadata": {},
   "outputs": [
    {
     "name": "stdout",
     "output_type": "stream",
     "text": [
      "[ 0.43370214  0.33369326  0.32603672 ...,  0.49549024  0.48962228\n",
      "  0.32826311]\n",
      "[ 0.30262202  0.31530929  0.21523897 ...,  0.37518257  0.13860659\n",
      "  0.2517232 ]\n"
     ]
    }
   ],
   "source": [
    "print(trainProb)\n",
    "print(ValProb)"
   ]
  },
  {
   "cell_type": "code",
   "execution_count": 16,
   "metadata": {},
   "outputs": [
    {
     "name": "stdout",
     "output_type": "stream",
     "text": [
      "0.0664637657317\n"
     ]
    }
   ],
   "source": [
    "# pCTR = predict_y.sum()/len(predict_y)\n",
    "CTR0 = (data_val['click'].values.sum()/len(data_val))*100\n",
    "\n",
    "print(CTR0)"
   ]
  },
  {
   "cell_type": "code",
   "execution_count": null,
   "metadata": {
    "collapsed": true
   },
   "outputs": [],
   "source": []
  },
  {
   "cell_type": "markdown",
   "metadata": {},
   "source": [
    "## Random forest"
   ]
  },
  {
   "cell_type": "code",
   "execution_count": 35,
   "metadata": {},
   "outputs": [
    {
     "data": {
      "text/plain": [
       "RandomForestClassifier(bootstrap=True, class_weight=None, criterion='gini',\n",
       "            max_depth=None, max_features='auto', max_leaf_nodes=None,\n",
       "            min_impurity_decrease=0.0, min_impurity_split=None,\n",
       "            min_samples_leaf=1, min_samples_split=2,\n",
       "            min_weight_fraction_leaf=0.0, n_estimators=10, n_jobs=1,\n",
       "            oob_score=False, random_state=None, verbose=0,\n",
       "            warm_start=False)"
      ]
     },
     "execution_count": 35,
     "metadata": {},
     "output_type": "execute_result"
    }
   ],
   "source": [
    "# Initialize the Random Forest model\n",
    "rf_model = RandomForestClassifier(n_estimators=10) #1000 TAKES A LONG TIME\n",
    "# Train the RF\n",
    "rf_model.fit(trainX, trainY)"
   ]
  },
  {
   "cell_type": "code",
   "execution_count": 37,
   "metadata": {
    "collapsed": true
   },
   "outputs": [],
   "source": [
    "predict_rf_y = rf_model.predict_proba(valX)\n",
    "# Cali_rf = Cali_CTR(predict_rf_y, 0.0075)[:,1]"
   ]
  },
  {
   "cell_type": "code",
   "execution_count": 41,
   "metadata": {},
   "outputs": [
    {
     "name": "stdout",
     "output_type": "stream",
     "text": [
      "[ 0.  0.  0. ...,  0.  0.  0.] [0 0 0 ..., 0 0 0]\n"
     ]
    }
   ],
   "source": [
    "print(predict_rf_y[:,1],valY)"
   ]
  },
  {
   "cell_type": "code",
   "execution_count": 42,
   "metadata": {
    "collapsed": true
   },
   "outputs": [],
   "source": [
    "fpr, tpr, thresholds = metrics.roc_curve(valY, predict_rf_y[:,1], pos_label=1)\n",
    "auc = metrics.auc(fpr, tpr)"
   ]
  },
  {
   "cell_type": "code",
   "execution_count": 44,
   "metadata": {},
   "outputs": [
    {
     "name": "stdout",
     "output_type": "stream",
     "text": [
      "auc on test:  0.667840441703\n",
      "RMSE on test dataset = 0.03\n"
     ]
    }
   ],
   "source": [
    "print('auc on test: ', auc)\n",
    "print (\"RMSE on test dataset = %.2f\" % (rmse(valY, predict_rf_y[:,1])))"
   ]
  },
  {
   "cell_type": "markdown",
   "metadata": {
    "collapsed": true
   },
   "source": [
    "## Elastic Net"
   ]
  },
  {
   "cell_type": "code",
   "execution_count": 45,
   "metadata": {
    "collapsed": true
   },
   "outputs": [],
   "source": [
    "from sklearn.linear_model import ElasticNet"
   ]
  },
  {
   "cell_type": "code",
   "execution_count": 46,
   "metadata": {
    "collapsed": true
   },
   "outputs": [],
   "source": [
    "#elastic net linear regression\n",
    "elas_model = ElasticNet(\n",
    "#     alpha=0.0005,\n",
    "    alpha = 1,\n",
    "    l1_ratio= 0.5\n",
    "    #selection='random',\n",
    "#     l1_ratio=.5 #0.777221822521\n",
    ")"
   ]
  },
  {
   "cell_type": "code",
   "execution_count": 47,
   "metadata": {},
   "outputs": [
    {
     "data": {
      "text/plain": [
       "ElasticNet(alpha=0.0005, copy_X=True, fit_intercept=True, l1_ratio=8.5,\n",
       "      max_iter=1000, normalize=False, positive=False, precompute=False,\n",
       "      random_state=None, selection='cyclic', tol=0.0001, warm_start=False)"
      ]
     },
     "execution_count": 47,
     "metadata": {},
     "output_type": "execute_result"
    }
   ],
   "source": [
    "elas_model.fit(trainX, trainY)"
   ]
  },
  {
   "cell_type": "code",
   "execution_count": 48,
   "metadata": {},
   "outputs": [
    {
     "name": "stdout",
     "output_type": "stream",
     "text": [
      "[ 0.00073783  0.00073783  0.00073783 ...,  0.00073783  0.00073783\n",
      "  0.00073783]\n"
     ]
    }
   ],
   "source": [
    "elas_preds = np.expm1(elas_model.predict(valX))\n",
    "# Cali_elas = Cali_CTR(elas_preds, 0.0075)\n",
    "print(elas_preds)"
   ]
  },
  {
   "cell_type": "code",
   "execution_count": 50,
   "metadata": {},
   "outputs": [
    {
     "name": "stdout",
     "output_type": "stream",
     "text": [
      "auc on test:  0.5\n",
      "RMSE on test dataset = 0.03\n"
     ]
    }
   ],
   "source": [
    "fpr, tpr, thresholds = metrics.roc_curve(valY, elas_preds, pos_label=1)\n",
    "auc = metrics.auc(fpr, tpr)\n",
    "\n",
    "print('auc on test: ', auc)\n",
    "print (\"RMSE on test dataset = %.2f\" % (rmse(valY, elas_preds)))"
   ]
  },
  {
   "cell_type": "markdown",
   "metadata": {},
   "source": [
    "## xgboost"
   ]
  },
  {
   "cell_type": "code",
   "execution_count": 51,
   "metadata": {
    "collapsed": true
   },
   "outputs": [],
   "source": [
    "import xgboost as xgb\n",
    "\n",
    "dtrain = xgb.DMatrix(trainX, label=trainY)\n",
    "dval = xgb.DMatrix(valX, valY)\n",
    "dtest = xgb.DMatrix(testX)"
   ]
  },
  {
   "cell_type": "code",
   "execution_count": 52,
   "metadata": {},
   "outputs": [
    {
     "name": "stdout",
     "output_type": "stream",
     "text": [
      "[0]\ttrain-rmse:0.143888\teval-rmse:0.143711\n",
      "[1]\ttrain-rmse:0.060354\teval-rmse:0.05983\n",
      "[2]\ttrain-rmse:0.033789\teval-rmse:0.032789\n",
      "[3]\ttrain-rmse:0.027071\teval-rmse:0.025784\n",
      "[4]\ttrain-rmse:0.025614\teval-rmse:0.024437\n",
      "[5]\ttrain-rmse:0.025162\teval-rmse:0.024029\n",
      "[6]\ttrain-rmse:0.02502\teval-rmse:0.023902\n",
      "[7]\ttrain-rmse:0.024946\teval-rmse:0.023879\n",
      "[8]\ttrain-rmse:0.024897\teval-rmse:0.023889\n",
      "[9]\ttrain-rmse:0.024788\teval-rmse:0.023802\n",
      "[10]\ttrain-rmse:0.024746\teval-rmse:0.023809\n",
      "[11]\ttrain-rmse:0.02465\teval-rmse:0.023728\n",
      "[12]\ttrain-rmse:0.02458\teval-rmse:0.023721\n",
      "[13]\ttrain-rmse:0.024508\teval-rmse:0.023734\n"
     ]
    }
   ],
   "source": [
    "learning_rate = 0.9 #0.879086213156\n",
    "\n",
    "max_depth = 6 \n",
    "min_child_weight = 5\n",
    "\n",
    "xgb_params = {\n",
    "    #General Parameters\n",
    "    'booster': 'gbtree',\n",
    "    'silent': 0,\n",
    "    \n",
    "    #Tree Booster Parameters\n",
    "    'eta': learning_rate,\n",
    "    \n",
    "    'max_depth': max_depth, #usually 3-10, big value can provide from overfitting\n",
    "    'min_child_weight': min_child_weight,\n",
    "    'subsample': 1,\n",
    "    'colsample_bytree': 1,\n",
    "    'alpha': 1, # improve speed\n",
    "    'scale_pos_weight': 1, #default = 1, positive value can converge faster\n",
    "    'early_stopping_rounds': 50,\n",
    "    \n",
    "    #learn objective parameters\n",
    "    'objective': 'reg:logistic',\n",
    "    'evalmatrix': 'rmse',\n",
    "    'seed': 2017\n",
    "    }\n",
    "\n",
    "num_round = 14#50\n",
    "watchlist = [(dtrain, 'train'), (dval, 'eval')]\n",
    "\n",
    "bst = xgb.train(xgb_params, dtrain, num_round, watchlist)"
   ]
  },
  {
   "cell_type": "code",
   "execution_count": 53,
   "metadata": {},
   "outputs": [
    {
     "name": "stdout",
     "output_type": "stream",
     "text": [
      "[  3.45322507e-04   6.28959169e-05   1.68170038e-04 ...,   1.54207437e-03\n",
      "   1.90809165e-04   1.10673951e-04]\n"
     ]
    }
   ],
   "source": [
    "predict_xgb = bst.predict(dval)\n",
    "print(predict_xgb)"
   ]
  },
  {
   "cell_type": "code",
   "execution_count": 54,
   "metadata": {},
   "outputs": [
    {
     "name": "stdout",
     "output_type": "stream",
     "text": [
      "auc on test:  0.865939898728\n",
      "RMSE on test dataset = 0.02\n"
     ]
    }
   ],
   "source": [
    "fpr, tpr, thresholds = metrics.roc_curve(valY, predict_xgb, pos_label=1)\n",
    "auc = metrics.auc(fpr, tpr)\n",
    "\n",
    "print('auc on test: ', auc)\n",
    "print (\"RMSE on test dataset = %.2f\" % (rmse(valY, predict_xgb)))"
   ]
  },
  {
   "cell_type": "markdown",
   "metadata": {},
   "source": [
    "## Neural Network"
   ]
  },
  {
   "cell_type": "code",
   "execution_count": 55,
   "metadata": {
    "collapsed": true
   },
   "outputs": [],
   "source": [
    "from sklearn.neural_network import MLPRegressor"
   ]
  },
  {
   "cell_type": "code",
   "execution_count": 56,
   "metadata": {
    "collapsed": true
   },
   "outputs": [],
   "source": [
    "nn = MLPRegressor(hidden_layer_sizes=(140,70),\n",
    "                  activation = 'logistic',\n",
    "                  solver = 'lbfgs',\n",
    "                  max_iter = 150,\n",
    "                  learning_rate_init = 0.0005,\n",
    "                  alpha = 0.0001,\n",
    "                  random_state=2017)"
   ]
  },
  {
   "cell_type": "code",
   "execution_count": 58,
   "metadata": {
    "scrolled": true
   },
   "outputs": [
    {
     "ename": "KeyboardInterrupt",
     "evalue": "",
     "output_type": "error",
     "traceback": [
      "\u001b[0;31m---------------------------------------------------------------------------\u001b[0m",
      "\u001b[0;31mKeyboardInterrupt\u001b[0m                         Traceback (most recent call last)",
      "\u001b[0;32m<ipython-input-58-dfb6bc4a30c8>\u001b[0m in \u001b[0;36m<module>\u001b[0;34m()\u001b[0m\n\u001b[0;32m----> 1\u001b[0;31m \u001b[0mnn\u001b[0m\u001b[0;34m.\u001b[0m\u001b[0mfit\u001b[0m\u001b[0;34m(\u001b[0m\u001b[0mtrainX\u001b[0m\u001b[0;34m,\u001b[0m \u001b[0mtrainY\u001b[0m\u001b[0;34m)\u001b[0m\u001b[0;34m\u001b[0m\u001b[0m\n\u001b[0m",
      "\u001b[0;32m~/anaconda3/lib/python3.6/site-packages/sklearn/neural_network/multilayer_perceptron.py\u001b[0m in \u001b[0;36mfit\u001b[0;34m(self, X, y)\u001b[0m\n\u001b[1;32m    618\u001b[0m         \u001b[0mself\u001b[0m \u001b[0;34m:\u001b[0m \u001b[0mreturns\u001b[0m \u001b[0ma\u001b[0m \u001b[0mtrained\u001b[0m \u001b[0mMLP\u001b[0m \u001b[0mmodel\u001b[0m\u001b[0;34m.\u001b[0m\u001b[0;34m\u001b[0m\u001b[0m\n\u001b[1;32m    619\u001b[0m         \"\"\"\n\u001b[0;32m--> 620\u001b[0;31m         \u001b[0;32mreturn\u001b[0m \u001b[0mself\u001b[0m\u001b[0;34m.\u001b[0m\u001b[0m_fit\u001b[0m\u001b[0;34m(\u001b[0m\u001b[0mX\u001b[0m\u001b[0;34m,\u001b[0m \u001b[0my\u001b[0m\u001b[0;34m,\u001b[0m \u001b[0mincremental\u001b[0m\u001b[0;34m=\u001b[0m\u001b[0;32mFalse\u001b[0m\u001b[0;34m)\u001b[0m\u001b[0;34m\u001b[0m\u001b[0m\n\u001b[0m\u001b[1;32m    621\u001b[0m \u001b[0;34m\u001b[0m\u001b[0m\n\u001b[1;32m    622\u001b[0m     \u001b[0;34m@\u001b[0m\u001b[0mproperty\u001b[0m\u001b[0;34m\u001b[0m\u001b[0m\n",
      "\u001b[0;32m~/anaconda3/lib/python3.6/site-packages/sklearn/neural_network/multilayer_perceptron.py\u001b[0m in \u001b[0;36m_fit\u001b[0;34m(self, X, y, incremental)\u001b[0m\n\u001b[1;32m    381\u001b[0m         \u001b[0;32melif\u001b[0m \u001b[0mself\u001b[0m\u001b[0;34m.\u001b[0m\u001b[0msolver\u001b[0m \u001b[0;34m==\u001b[0m \u001b[0;34m'lbfgs'\u001b[0m\u001b[0;34m:\u001b[0m\u001b[0;34m\u001b[0m\u001b[0m\n\u001b[1;32m    382\u001b[0m             self._fit_lbfgs(X, y, activations, deltas, coef_grads,\n\u001b[0;32m--> 383\u001b[0;31m                             intercept_grads, layer_units)\n\u001b[0m\u001b[1;32m    384\u001b[0m         \u001b[0;32mreturn\u001b[0m \u001b[0mself\u001b[0m\u001b[0;34m\u001b[0m\u001b[0m\n\u001b[1;32m    385\u001b[0m \u001b[0;34m\u001b[0m\u001b[0m\n",
      "\u001b[0;32m~/anaconda3/lib/python3.6/site-packages/sklearn/neural_network/multilayer_perceptron.py\u001b[0m in \u001b[0;36m_fit_lbfgs\u001b[0;34m(self, X, y, activations, deltas, coef_grads, intercept_grads, layer_units)\u001b[0m\n\u001b[1;32m    468\u001b[0m             \u001b[0miprint\u001b[0m\u001b[0;34m=\u001b[0m\u001b[0miprint\u001b[0m\u001b[0;34m,\u001b[0m\u001b[0;34m\u001b[0m\u001b[0m\n\u001b[1;32m    469\u001b[0m             \u001b[0mpgtol\u001b[0m\u001b[0;34m=\u001b[0m\u001b[0mself\u001b[0m\u001b[0;34m.\u001b[0m\u001b[0mtol\u001b[0m\u001b[0;34m,\u001b[0m\u001b[0;34m\u001b[0m\u001b[0m\n\u001b[0;32m--> 470\u001b[0;31m             args=(X, y, activations, deltas, coef_grads, intercept_grads))\n\u001b[0m\u001b[1;32m    471\u001b[0m \u001b[0;34m\u001b[0m\u001b[0m\n\u001b[1;32m    472\u001b[0m         \u001b[0mself\u001b[0m\u001b[0;34m.\u001b[0m\u001b[0m_unpack\u001b[0m\u001b[0;34m(\u001b[0m\u001b[0moptimal_parameters\u001b[0m\u001b[0;34m)\u001b[0m\u001b[0;34m\u001b[0m\u001b[0m\n",
      "\u001b[0;32m~/anaconda3/lib/python3.6/site-packages/scipy/optimize/lbfgsb.py\u001b[0m in \u001b[0;36mfmin_l_bfgs_b\u001b[0;34m(func, x0, fprime, args, approx_grad, bounds, m, factr, pgtol, epsilon, iprint, maxfun, maxiter, disp, callback, maxls)\u001b[0m\n\u001b[1;32m    191\u001b[0m \u001b[0;34m\u001b[0m\u001b[0m\n\u001b[1;32m    192\u001b[0m     res = _minimize_lbfgsb(fun, x0, args=args, jac=jac, bounds=bounds,\n\u001b[0;32m--> 193\u001b[0;31m                            **opts)\n\u001b[0m\u001b[1;32m    194\u001b[0m     d = {'grad': res['jac'],\n\u001b[1;32m    195\u001b[0m          \u001b[0;34m'task'\u001b[0m\u001b[0;34m:\u001b[0m \u001b[0mres\u001b[0m\u001b[0;34m[\u001b[0m\u001b[0;34m'message'\u001b[0m\u001b[0;34m]\u001b[0m\u001b[0;34m,\u001b[0m\u001b[0;34m\u001b[0m\u001b[0m\n",
      "\u001b[0;32m~/anaconda3/lib/python3.6/site-packages/scipy/optimize/lbfgsb.py\u001b[0m in \u001b[0;36m_minimize_lbfgsb\u001b[0;34m(fun, x0, args, jac, bounds, disp, maxcor, ftol, gtol, eps, maxfun, maxiter, iprint, callback, maxls, **unknown_options)\u001b[0m\n\u001b[1;32m    326\u001b[0m             \u001b[0;31m# until the completion of the current minimization iteration.\u001b[0m\u001b[0;34m\u001b[0m\u001b[0;34m\u001b[0m\u001b[0m\n\u001b[1;32m    327\u001b[0m             \u001b[0;31m# Overwrite f and g:\u001b[0m\u001b[0;34m\u001b[0m\u001b[0;34m\u001b[0m\u001b[0m\n\u001b[0;32m--> 328\u001b[0;31m             \u001b[0mf\u001b[0m\u001b[0;34m,\u001b[0m \u001b[0mg\u001b[0m \u001b[0;34m=\u001b[0m \u001b[0mfunc_and_grad\u001b[0m\u001b[0;34m(\u001b[0m\u001b[0mx\u001b[0m\u001b[0;34m)\u001b[0m\u001b[0;34m\u001b[0m\u001b[0m\n\u001b[0m\u001b[1;32m    329\u001b[0m         \u001b[0;32melif\u001b[0m \u001b[0mtask_str\u001b[0m\u001b[0;34m.\u001b[0m\u001b[0mstartswith\u001b[0m\u001b[0;34m(\u001b[0m\u001b[0;34mb'NEW_X'\u001b[0m\u001b[0;34m)\u001b[0m\u001b[0;34m:\u001b[0m\u001b[0;34m\u001b[0m\u001b[0m\n\u001b[1;32m    330\u001b[0m             \u001b[0;31m# new iteration\u001b[0m\u001b[0;34m\u001b[0m\u001b[0;34m\u001b[0m\u001b[0m\n",
      "\u001b[0;32m~/anaconda3/lib/python3.6/site-packages/scipy/optimize/lbfgsb.py\u001b[0m in \u001b[0;36mfunc_and_grad\u001b[0;34m(x)\u001b[0m\n\u001b[1;32m    276\u001b[0m     \u001b[0;32melse\u001b[0m\u001b[0;34m:\u001b[0m\u001b[0;34m\u001b[0m\u001b[0m\n\u001b[1;32m    277\u001b[0m         \u001b[0;32mdef\u001b[0m \u001b[0mfunc_and_grad\u001b[0m\u001b[0;34m(\u001b[0m\u001b[0mx\u001b[0m\u001b[0;34m)\u001b[0m\u001b[0;34m:\u001b[0m\u001b[0;34m\u001b[0m\u001b[0m\n\u001b[0;32m--> 278\u001b[0;31m             \u001b[0mf\u001b[0m \u001b[0;34m=\u001b[0m \u001b[0mfun\u001b[0m\u001b[0;34m(\u001b[0m\u001b[0mx\u001b[0m\u001b[0;34m,\u001b[0m \u001b[0;34m*\u001b[0m\u001b[0margs\u001b[0m\u001b[0;34m)\u001b[0m\u001b[0;34m\u001b[0m\u001b[0m\n\u001b[0m\u001b[1;32m    279\u001b[0m             \u001b[0mg\u001b[0m \u001b[0;34m=\u001b[0m \u001b[0mjac\u001b[0m\u001b[0;34m(\u001b[0m\u001b[0mx\u001b[0m\u001b[0;34m,\u001b[0m \u001b[0;34m*\u001b[0m\u001b[0margs\u001b[0m\u001b[0;34m)\u001b[0m\u001b[0;34m\u001b[0m\u001b[0m\n\u001b[1;32m    280\u001b[0m             \u001b[0;32mreturn\u001b[0m \u001b[0mf\u001b[0m\u001b[0;34m,\u001b[0m \u001b[0mg\u001b[0m\u001b[0;34m\u001b[0m\u001b[0m\n",
      "\u001b[0;32m~/anaconda3/lib/python3.6/site-packages/scipy/optimize/optimize.py\u001b[0m in \u001b[0;36mfunction_wrapper\u001b[0;34m(*wrapper_args)\u001b[0m\n\u001b[1;32m    290\u001b[0m     \u001b[0;32mdef\u001b[0m \u001b[0mfunction_wrapper\u001b[0m\u001b[0;34m(\u001b[0m\u001b[0;34m*\u001b[0m\u001b[0mwrapper_args\u001b[0m\u001b[0;34m)\u001b[0m\u001b[0;34m:\u001b[0m\u001b[0;34m\u001b[0m\u001b[0m\n\u001b[1;32m    291\u001b[0m         \u001b[0mncalls\u001b[0m\u001b[0;34m[\u001b[0m\u001b[0;36m0\u001b[0m\u001b[0;34m]\u001b[0m \u001b[0;34m+=\u001b[0m \u001b[0;36m1\u001b[0m\u001b[0;34m\u001b[0m\u001b[0m\n\u001b[0;32m--> 292\u001b[0;31m         \u001b[0;32mreturn\u001b[0m \u001b[0mfunction\u001b[0m\u001b[0;34m(\u001b[0m\u001b[0;34m*\u001b[0m\u001b[0;34m(\u001b[0m\u001b[0mwrapper_args\u001b[0m \u001b[0;34m+\u001b[0m \u001b[0margs\u001b[0m\u001b[0;34m)\u001b[0m\u001b[0;34m)\u001b[0m\u001b[0;34m\u001b[0m\u001b[0m\n\u001b[0m\u001b[1;32m    293\u001b[0m \u001b[0;34m\u001b[0m\u001b[0m\n\u001b[1;32m    294\u001b[0m     \u001b[0;32mreturn\u001b[0m \u001b[0mncalls\u001b[0m\u001b[0;34m,\u001b[0m \u001b[0mfunction_wrapper\u001b[0m\u001b[0;34m\u001b[0m\u001b[0m\n",
      "\u001b[0;32m~/anaconda3/lib/python3.6/site-packages/scipy/optimize/optimize.py\u001b[0m in \u001b[0;36m__call__\u001b[0;34m(self, x, *args)\u001b[0m\n\u001b[1;32m     61\u001b[0m     \u001b[0;32mdef\u001b[0m \u001b[0m__call__\u001b[0m\u001b[0;34m(\u001b[0m\u001b[0mself\u001b[0m\u001b[0;34m,\u001b[0m \u001b[0mx\u001b[0m\u001b[0;34m,\u001b[0m \u001b[0;34m*\u001b[0m\u001b[0margs\u001b[0m\u001b[0;34m)\u001b[0m\u001b[0;34m:\u001b[0m\u001b[0;34m\u001b[0m\u001b[0m\n\u001b[1;32m     62\u001b[0m         \u001b[0mself\u001b[0m\u001b[0;34m.\u001b[0m\u001b[0mx\u001b[0m \u001b[0;34m=\u001b[0m \u001b[0mnumpy\u001b[0m\u001b[0;34m.\u001b[0m\u001b[0masarray\u001b[0m\u001b[0;34m(\u001b[0m\u001b[0mx\u001b[0m\u001b[0;34m)\u001b[0m\u001b[0;34m.\u001b[0m\u001b[0mcopy\u001b[0m\u001b[0;34m(\u001b[0m\u001b[0;34m)\u001b[0m\u001b[0;34m\u001b[0m\u001b[0m\n\u001b[0;32m---> 63\u001b[0;31m         \u001b[0mfg\u001b[0m \u001b[0;34m=\u001b[0m \u001b[0mself\u001b[0m\u001b[0;34m.\u001b[0m\u001b[0mfun\u001b[0m\u001b[0;34m(\u001b[0m\u001b[0mx\u001b[0m\u001b[0;34m,\u001b[0m \u001b[0;34m*\u001b[0m\u001b[0margs\u001b[0m\u001b[0;34m)\u001b[0m\u001b[0;34m\u001b[0m\u001b[0m\n\u001b[0m\u001b[1;32m     64\u001b[0m         \u001b[0mself\u001b[0m\u001b[0;34m.\u001b[0m\u001b[0mjac\u001b[0m \u001b[0;34m=\u001b[0m \u001b[0mfg\u001b[0m\u001b[0;34m[\u001b[0m\u001b[0;36m1\u001b[0m\u001b[0;34m]\u001b[0m\u001b[0;34m\u001b[0m\u001b[0m\n\u001b[1;32m     65\u001b[0m         \u001b[0;32mreturn\u001b[0m \u001b[0mfg\u001b[0m\u001b[0;34m[\u001b[0m\u001b[0;36m0\u001b[0m\u001b[0;34m]\u001b[0m\u001b[0;34m\u001b[0m\u001b[0m\n",
      "\u001b[0;32m~/anaconda3/lib/python3.6/site-packages/sklearn/neural_network/multilayer_perceptron.py\u001b[0m in \u001b[0;36m_loss_grad_lbfgs\u001b[0;34m(self, packed_coef_inter, X, y, activations, deltas, coef_grads, intercept_grads)\u001b[0m\n\u001b[1;32m    177\u001b[0m         \u001b[0mself\u001b[0m\u001b[0;34m.\u001b[0m\u001b[0m_unpack\u001b[0m\u001b[0;34m(\u001b[0m\u001b[0mpacked_coef_inter\u001b[0m\u001b[0;34m)\u001b[0m\u001b[0;34m\u001b[0m\u001b[0m\n\u001b[1;32m    178\u001b[0m         loss, coef_grads, intercept_grads = self._backprop(\n\u001b[0;32m--> 179\u001b[0;31m             X, y, activations, deltas, coef_grads, intercept_grads)\n\u001b[0m\u001b[1;32m    180\u001b[0m         \u001b[0mself\u001b[0m\u001b[0;34m.\u001b[0m\u001b[0mn_iter_\u001b[0m \u001b[0;34m+=\u001b[0m \u001b[0;36m1\u001b[0m\u001b[0;34m\u001b[0m\u001b[0m\n\u001b[1;32m    181\u001b[0m         \u001b[0mgrad\u001b[0m \u001b[0;34m=\u001b[0m \u001b[0m_pack\u001b[0m\u001b[0;34m(\u001b[0m\u001b[0mcoef_grads\u001b[0m\u001b[0;34m,\u001b[0m \u001b[0mintercept_grads\u001b[0m\u001b[0;34m)\u001b[0m\u001b[0;34m\u001b[0m\u001b[0m\n",
      "\u001b[0;32m~/anaconda3/lib/python3.6/site-packages/sklearn/neural_network/multilayer_perceptron.py\u001b[0m in \u001b[0;36m_backprop\u001b[0;34m(self, X, y, activations, deltas, coef_grads, intercept_grads)\u001b[0m\n\u001b[1;32m    251\u001b[0m             \u001b[0mdeltas\u001b[0m\u001b[0;34m[\u001b[0m\u001b[0mi\u001b[0m \u001b[0;34m-\u001b[0m \u001b[0;36m1\u001b[0m\u001b[0;34m]\u001b[0m \u001b[0;34m=\u001b[0m \u001b[0msafe_sparse_dot\u001b[0m\u001b[0;34m(\u001b[0m\u001b[0mdeltas\u001b[0m\u001b[0;34m[\u001b[0m\u001b[0mi\u001b[0m\u001b[0;34m]\u001b[0m\u001b[0;34m,\u001b[0m \u001b[0mself\u001b[0m\u001b[0;34m.\u001b[0m\u001b[0mcoefs_\u001b[0m\u001b[0;34m[\u001b[0m\u001b[0mi\u001b[0m\u001b[0;34m]\u001b[0m\u001b[0;34m.\u001b[0m\u001b[0mT\u001b[0m\u001b[0;34m)\u001b[0m\u001b[0;34m\u001b[0m\u001b[0m\n\u001b[1;32m    252\u001b[0m             \u001b[0minplace_derivative\u001b[0m \u001b[0;34m=\u001b[0m \u001b[0mDERIVATIVES\u001b[0m\u001b[0;34m[\u001b[0m\u001b[0mself\u001b[0m\u001b[0;34m.\u001b[0m\u001b[0mactivation\u001b[0m\u001b[0;34m]\u001b[0m\u001b[0;34m\u001b[0m\u001b[0m\n\u001b[0;32m--> 253\u001b[0;31m             \u001b[0minplace_derivative\u001b[0m\u001b[0;34m(\u001b[0m\u001b[0mactivations\u001b[0m\u001b[0;34m[\u001b[0m\u001b[0mi\u001b[0m\u001b[0;34m]\u001b[0m\u001b[0;34m,\u001b[0m \u001b[0mdeltas\u001b[0m\u001b[0;34m[\u001b[0m\u001b[0mi\u001b[0m \u001b[0;34m-\u001b[0m \u001b[0;36m1\u001b[0m\u001b[0;34m]\u001b[0m\u001b[0;34m)\u001b[0m\u001b[0;34m\u001b[0m\u001b[0m\n\u001b[0m\u001b[1;32m    254\u001b[0m \u001b[0;34m\u001b[0m\u001b[0m\n\u001b[1;32m    255\u001b[0m             coef_grads, intercept_grads = self._compute_loss_grad(\n",
      "\u001b[0;32m~/anaconda3/lib/python3.6/site-packages/sklearn/neural_network/_base.py\u001b[0m in \u001b[0;36minplace_logistic_derivative\u001b[0;34m(Z, delta)\u001b[0m\n\u001b[1;32m    131\u001b[0m     \"\"\"\n\u001b[1;32m    132\u001b[0m     \u001b[0mdelta\u001b[0m \u001b[0;34m*=\u001b[0m \u001b[0mZ\u001b[0m\u001b[0;34m\u001b[0m\u001b[0m\n\u001b[0;32m--> 133\u001b[0;31m     \u001b[0mdelta\u001b[0m \u001b[0;34m*=\u001b[0m \u001b[0;34m(\u001b[0m\u001b[0;36m1\u001b[0m \u001b[0;34m-\u001b[0m \u001b[0mZ\u001b[0m\u001b[0;34m)\u001b[0m\u001b[0;34m\u001b[0m\u001b[0m\n\u001b[0m\u001b[1;32m    134\u001b[0m \u001b[0;34m\u001b[0m\u001b[0m\n\u001b[1;32m    135\u001b[0m \u001b[0;34m\u001b[0m\u001b[0m\n",
      "\u001b[0;31mKeyboardInterrupt\u001b[0m: "
     ]
    }
   ],
   "source": [
    "nn.fit(trainX, trainY)"
   ]
  },
  {
   "cell_type": "code",
   "execution_count": null,
   "metadata": {
    "collapsed": true
   },
   "outputs": [],
   "source": [
    "nn_preds = np.expm1(nn.predict(valX))\n",
    "# Cali_nn = Cali_CTR(nn_preds, 0.0075)\n",
    "print(nn_preds)"
   ]
  },
  {
   "cell_type": "code",
   "execution_count": null,
   "metadata": {
    "collapsed": true
   },
   "outputs": [],
   "source": [
    "fpr, tpr, thresholds = metrics.roc_curve(valY, nn_preds, pos_label=1)\n",
    "auc = metrics.auc(fpr, tpr)\n",
    "\n",
    "print('auc on test: ', auc)\n",
    "print (\"RMSE on test dataset = %.2f\" % (rmse(valY, nn_preds)))"
   ]
  },
  {
   "cell_type": "markdown",
   "metadata": {},
   "source": [
    "## Adaboost"
   ]
  },
  {
   "cell_type": "code",
   "execution_count": 13,
   "metadata": {
    "collapsed": true
   },
   "outputs": [],
   "source": [
    "from sklearn.datasets import load_iris\n",
    "from sklearn.ensemble import AdaBoostRegressor"
   ]
  },
  {
   "cell_type": "code",
   "execution_count": 14,
   "metadata": {
    "collapsed": true
   },
   "outputs": [],
   "source": [
    "iris = load_iris()\n",
    "clf1 = AdaBoostRegressor(base_estimator= None,\n",
    "                            n_estimators=70, \n",
    "                            learning_rate=0.1, \n",
    "                            loss='square', \n",
    "                            random_state=1)"
   ]
  },
  {
   "cell_type": "code",
   "execution_count": null,
   "metadata": {
    "collapsed": true
   },
   "outputs": [],
   "source": [
    "clf1.fit(trainX,trainY)"
   ]
  },
  {
   "cell_type": "code",
   "execution_count": null,
   "metadata": {
    "collapsed": true
   },
   "outputs": [],
   "source": [
    "y_pred_ada = clf1.predict(valX)\n",
    "# Cali_ada = Cali_CTR(y_pred_ada, 0.0075)"
   ]
  },
  {
   "cell_type": "code",
   "execution_count": null,
   "metadata": {
    "collapsed": true
   },
   "outputs": [],
   "source": [
    "fpr, tpr, thresholds = metrics.roc_curve(valY, y_pred_ada, pos_label=1)\n",
    "auc = metrics.auc(fpr, tpr)\n",
    "\n",
    "print('auc on test: ', auc)\n",
    "print (\"RMSE on test dataset = %.2f\" % (rmse(valY, y_pred_ada)))"
   ]
  },
  {
   "cell_type": "code",
   "execution_count": null,
   "metadata": {
    "collapsed": true
   },
   "outputs": [],
   "source": []
  },
  {
   "cell_type": "code",
   "execution_count": null,
   "metadata": {
    "collapsed": true
   },
   "outputs": [],
   "source": []
  },
  {
   "cell_type": "code",
   "execution_count": null,
   "metadata": {
    "collapsed": true
   },
   "outputs": [],
   "source": []
  },
  {
   "cell_type": "code",
   "execution_count": null,
   "metadata": {
    "collapsed": true
   },
   "outputs": [],
   "source": []
  },
  {
   "cell_type": "code",
   "execution_count": null,
   "metadata": {
    "collapsed": true
   },
   "outputs": [],
   "source": []
  },
  {
   "cell_type": "code",
   "execution_count": null,
   "metadata": {
    "collapsed": true
   },
   "outputs": [],
   "source": []
  },
  {
   "cell_type": "code",
   "execution_count": null,
   "metadata": {
    "collapsed": true
   },
   "outputs": [],
   "source": []
  },
  {
   "cell_type": "markdown",
   "metadata": {},
   "source": [
    "## Linear bidding strategy"
   ]
  },
  {
   "cell_type": "code",
   "execution_count": 17,
   "metadata": {
    "collapsed": true
   },
   "outputs": [],
   "source": [
    "def evaluation (pBidprice, payprice, clicks, budget=6250):\n",
    "    win_num = 0.\n",
    "    total_cost = 0.\n",
    "    click_num = 0.\n",
    "    for i in range(0, len(payprice)):\n",
    "        if pBidprice[i] >= payprice[i]:\n",
    "            if total_cost + payprice[i] / 1000. > budget:\n",
    "                break\n",
    "            win_num = win_num + 1\n",
    "            total_cost = total_cost + payprice[i] / 1000.\n",
    "            click_num += clicks[i]\n",
    "    ctr = click_num / win_num\n",
    "    cpc = total_cost / click_num\n",
    "    print('win_num {}, total_cost {}, click_num {}, ctr {}, cpc {}'.format(win_num, total_cost, click_num, ctr, cpc))\n",
    "    return win_num, total_cost, click_num, ctr, cpc\n"
   ]
  },
  {
   "cell_type": "code",
   "execution_count": 18,
   "metadata": {
    "collapsed": true
   },
   "outputs": [],
   "source": [
    "def pbidprice(ctr, base_bid):\n",
    "    pbid = []\n",
    "    for i in range(len(ctr)):\n",
    "        p = base_bid * (ctr[i]/CTR0)\n",
    "        pbid.append(p)\n",
    "\n",
    "    return pbid"
   ]
  },
  {
   "cell_type": "code",
   "execution_count": 19,
   "metadata": {
    "collapsed": true
   },
   "outputs": [],
   "source": [
    "# # Caculate the calibrated CTR\n",
    "# def Cali_CTR(p, w):\n",
    "\n",
    "#     cali_ctr = p/(p+(1-p)/w)\n",
    "\n",
    "#     return cali_ctr   "
   ]
  },
  {
   "cell_type": "code",
   "execution_count": null,
   "metadata": {
    "collapsed": true
   },
   "outputs": [],
   "source": [
    "# Caculate the root mean square rooot\n",
    "def rmse(predictions, targets):\n",
    "\n",
    "    differences = predictions - targets                       #the DIFFERENCEs.\n",
    "\n",
    "    differences_squared = differences ** 2                    #the SQUAREs of ^\n",
    "\n",
    "    mean_of_differences_squared = differences_squared.mean()  #the MEAN of ^\n",
    "\n",
    "    rmse_val = np.sqrt(mean_of_differences_squared)           #ROOT of ^\n",
    "\n",
    "    return rmse_val     #get the ^"
   ]
  },
  {
   "cell_type": "code",
   "execution_count": 22,
   "metadata": {
    "collapsed": true
   },
   "outputs": [],
   "source": [
    "# Payprice_val = np.array(Y_val[:,2], dtype=np.int32)\n",
    "# clicks = np.array(Y_val[:,1], dtype=np.int32)\n",
    "# pCTR = Cali_xgb\n",
    "\n",
    "Payprice_val = valPayprice\n",
    "clicks = valY\n",
    "pCTR = ValProb"
   ]
  },
  {
   "cell_type": "code",
   "execution_count": 24,
   "metadata": {
    "scrolled": true
   },
   "outputs": [
    {
     "name": "stdout",
     "output_type": "stream",
     "text": [
      "win_num 80274.0, total_cost [6249.943000000878], click_num 51.0, ctr 0.0006353240152477764, cpc [122.54790196080152]\n",
      "150.0\n",
      "win_num 80269.0, total_cost [6249.92500000088], click_num 51.0, ctr 0.0006353635899288642, cpc [122.5475490196251]\n",
      "151.0\n",
      "win_num 80268.0, total_cost [6249.9960000008805], click_num 51.0, ctr 0.00063537150545672, cpc [122.54894117648786]\n",
      "152.0\n",
      "win_num 80266.0, total_cost [6249.892000000882], click_num 51.0, ctr 0.0006353873371041287, cpc [122.5469019608016]\n",
      "153.0\n",
      "win_num 80262.0, total_cost [6249.915000000884], click_num 51.0, ctr 0.0006354190027659416, cpc [122.54735294119381]\n",
      "154.0\n",
      "win_num 80261.0, total_cost [6249.946000000886], click_num 51.0, ctr 0.0006354269196745618, cpc [122.5479607843311]\n",
      "155.0\n",
      "win_num 80255.0, total_cost [6249.987000000885], click_num 51.0, ctr 0.0006354744252694536, cpc [122.5487647058997]\n",
      "156.0\n",
      "win_num 80242.0, total_cost [6249.992000000883], click_num 51.0, ctr 0.0006355773784302485, cpc [122.54886274511536]\n",
      "157.0\n",
      "win_num 80236.0, total_cost [6249.754000000885], click_num 51.0, ctr 0.000635624906525749, cpc [122.54419607844872]\n",
      "158.0\n",
      "win_num 80230.0, total_cost [6249.984000000883], click_num 51.0, ctr 0.0006356724417300261, cpc [122.54870588237024]\n",
      "159.0\n",
      "win_num 80212.0, total_cost [6249.996000000884], click_num 51.0, ctr 0.0006358150900114696, cpc [122.54894117648793]\n",
      "160.0\n",
      "win_num 80209.0, total_cost [6249.958000000884], click_num 51.0, ctr 0.000635838870949644, cpc [122.5481960784487]\n",
      "161.0\n",
      "win_num 80206.0, total_cost [6249.979000000883], click_num 51.0, ctr 0.000635862653666808, cpc [122.54860784315457]\n",
      "162.0\n",
      "win_num 80200.0, total_cost [6249.989000000886], click_num 51.0, ctr 0.0006359102244389027, cpc [122.548803921586]\n",
      "163.0\n",
      "win_num 80197.0, total_cost [6249.965000000888], click_num 51.0, ctr 0.000635934012494233, cpc [122.54833333335074]\n",
      "164.0\n",
      "win_num 80196.0, total_cost [6249.816000000888], click_num 51.0, ctr 0.0006359419422415083, cpc [122.5454117647233]\n",
      "165.0\n",
      "win_num 80196.0, total_cost [6249.995000000889], click_num 51.0, ctr 0.0006359419422415083, cpc [122.54892156864489]\n",
      "166.0\n",
      "win_num 80192.0, total_cost [6249.994000000888], click_num 51.0, ctr 0.0006359736632083001, cpc [122.54890196080173]\n",
      "167.0\n",
      "win_num 80187.0, total_cost [6249.968000000889], click_num 51.0, ctr 0.000636013318867148, cpc [122.54839215688018]\n",
      "168.0\n",
      "win_num 80187.0, total_cost [6249.97500000089], click_num 51.0, ctr 0.000636013318867148, cpc [122.54852941178216]\n",
      "169.0\n",
      "win_num 80186.0, total_cost [6249.979000000888], click_num 51.0, ctr 0.0006360212505923728, cpc [122.54860784315467]\n",
      "170.0\n",
      "win_num 80183.0, total_cost [6249.9680000008875], click_num 51.0, ctr 0.0006360450469550902, cpc [122.54839215688014]\n",
      "171.0\n",
      "win_num 80180.0, total_cost [6249.980000000887], click_num 51.0, ctr 0.0006360688450985283, cpc [122.54862745099778]\n",
      "172.0\n",
      "win_num 80171.0, total_cost [6249.951000000886], click_num 51.0, ctr 0.0006361402502151651, cpc [122.54805882354678]\n",
      "173.0\n",
      "win_num 80163.0, total_cost [6249.971000000886], click_num 51.0, ctr 0.0006362037348901613, cpc [122.54845098040954]\n",
      "174.0\n",
      "win_num 80157.0, total_cost [6249.925000000887], click_num 51.0, ctr 0.0006362513567124518, cpc [122.54754901962524]\n",
      "175.0\n",
      "win_num 80158.0, total_cost [6249.956000000887], click_num 51.0, ctr 0.0006362434192469872, cpc [122.54815686276248]\n",
      "176.0\n",
      "win_num 80155.0, total_cost [6249.809000000887], click_num 51.0, ctr 0.0006362672322375398, cpc [122.54527450982131]\n",
      "177.0\n",
      "win_num 80156.0, total_cost [6249.9860000008875], click_num 51.0, ctr 0.0006362592943759669, cpc [122.54874509805661]\n",
      "178.0\n",
      "win_num 80148.0, total_cost [6249.954000000887], click_num 51.0, ctr 0.0006363228028147927, cpc [122.54811764707623]\n",
      "179.0\n"
     ]
    }
   ],
   "source": [
    "base = 150.\n",
    "bidp = []\n",
    "win_number = []\n",
    "totalcost = []\n",
    "clicknum = []\n",
    "ctr_p = []\n",
    "cpc_p = []\n",
    "for i in range(30):\n",
    "    bid_p = pbidprice(pCTR, base)\n",
    "    win_num, total_cost, click_num, ctr, cpc = evaluation(bid_p,Payprice_val, clicks)\n",
    "    print(base)\n",
    "    base += 1   "
   ]
  },
  {
   "cell_type": "code",
   "execution_count": 25,
   "metadata": {
    "scrolled": true
   },
   "outputs": [
    {
     "name": "stdout",
     "output_type": "stream",
     "text": [
      "win_num 80186.0, total_cost [6249.979000000888], click_num 51.0, ctr 0.0006360212505923728, cpc [122.54860784315467]\n",
      "170.0\n",
      "win_num 80183.0, total_cost [6249.9680000008875], click_num 51.0, ctr 0.0006360450469550902, cpc [122.54839215688014]\n",
      "171.0\n",
      "win_num 80180.0, total_cost [6249.980000000887], click_num 51.0, ctr 0.0006360688450985283, cpc [122.54862745099778]\n",
      "172.0\n",
      "win_num 80171.0, total_cost [6249.951000000886], click_num 51.0, ctr 0.0006361402502151651, cpc [122.54805882354678]\n",
      "173.0\n",
      "win_num 80163.0, total_cost [6249.971000000886], click_num 51.0, ctr 0.0006362037348901613, cpc [122.54845098040954]\n",
      "174.0\n",
      "win_num 80157.0, total_cost [6249.925000000887], click_num 51.0, ctr 0.0006362513567124518, cpc [122.54754901962524]\n",
      "175.0\n",
      "win_num 80158.0, total_cost [6249.956000000887], click_num 51.0, ctr 0.0006362434192469872, cpc [122.54815686276248]\n",
      "176.0\n",
      "win_num 80155.0, total_cost [6249.809000000887], click_num 51.0, ctr 0.0006362672322375398, cpc [122.54527450982131]\n",
      "177.0\n",
      "win_num 80156.0, total_cost [6249.9860000008875], click_num 51.0, ctr 0.0006362592943759669, cpc [122.54874509805661]\n",
      "178.0\n",
      "win_num 80148.0, total_cost [6249.954000000887], click_num 51.0, ctr 0.0006363228028147927, cpc [122.54811764707623]\n",
      "179.0\n",
      "win_num 80144.0, total_cost [6249.979000000886], click_num 51.0, ctr 0.0006363545617887802, cpc [122.54860784315463]\n",
      "180.0\n",
      "win_num 80142.0, total_cost [6249.997000000885], click_num 51.0, ctr 0.0006363704424646253, cpc [122.54896078433109]\n",
      "181.0\n",
      "win_num 80133.0, total_cost [6249.919000000884], click_num 51.0, ctr 0.0006364419153157875, cpc [122.54743137256635]\n",
      "182.0\n",
      "win_num 80132.0, total_cost [6249.959000000884], click_num 51.0, ctr 0.0006364498577347377, cpc [122.54821568629184]\n",
      "183.0\n",
      "win_num 80131.0, total_cost [6249.974000000883], click_num 51.0, ctr 0.0006364578003519237, cpc [122.54850980393888]\n",
      "184.0\n",
      "win_num 80127.0, total_cost [6249.897000000882], click_num 51.0, ctr 0.000636489572803175, cpc [122.54700000001729]\n",
      "185.0\n",
      "win_num 80120.0, total_cost [6249.909000000882], click_num 51.0, ctr 0.0006365451822266601, cpc [122.54723529413494]\n",
      "186.0\n",
      "win_num 80118.0, total_cost [6249.978000000881], click_num 51.0, ctr 0.0006365610724181832, cpc [122.5485882353114]\n",
      "187.0\n",
      "win_num 80115.0, total_cost [6249.878000000883], click_num 51.0, ctr 0.000636584909193035, cpc [122.5466274509977]\n",
      "188.0\n",
      "win_num 80109.0, total_cost [6249.991000000883], click_num 51.0, ctr 0.0006366325880987155, cpc [122.54884313727221]\n",
      "189.0\n",
      "win_num 80105.0, total_cost [6249.934000000883], click_num 51.0, ctr 0.00063666437800387, cpc [122.5477254902134]\n",
      "190.0\n",
      "win_num 80103.0, total_cost [6249.9480000008825], click_num 51.0, ctr 0.0006366802741470357, cpc [122.54800000001731]\n",
      "191.0\n",
      "win_num 80093.0, total_cost [6249.980000000882], click_num 51.0, ctr 0.0006367597667711286, cpc [122.54862745099769]\n",
      "192.0\n",
      "win_num 80084.0, total_cost [6249.901000000882], click_num 51.0, ctr 0.0006368313271065382, cpc [122.54707843138985]\n",
      "193.0\n",
      "win_num 80084.0, total_cost [6249.901000000882], click_num 51.0, ctr 0.0006368313271065382, cpc [122.54707843138985]\n",
      "194.0\n",
      "win_num 80084.0, total_cost [6249.970000000882], click_num 51.0, ctr 0.0006368313271065382, cpc [122.5484313725663]\n",
      "195.0\n",
      "win_num 80082.0, total_cost [6249.972000000883], click_num 51.0, ctr 0.0006368472315876227, cpc [122.5484705882526]\n",
      "196.0\n",
      "win_num 80080.0, total_cost [6249.906000000884], click_num 51.0, ctr 0.0006368631368631369, cpc [122.54717647060556]\n",
      "197.0\n",
      "win_num 80076.0, total_cost [6249.9890000008845], click_num 51.0, ctr 0.0006368949497976921, cpc [122.54880392158597]\n",
      "198.0\n",
      "win_num 80071.0, total_cost [6249.957000000884], click_num 51.0, ctr 0.0006369347204356134, cpc [122.54817647060558]\n",
      "199.0\n"
     ]
    }
   ],
   "source": [
    "base = 170.\n",
    "bidp = []\n",
    "win_number = []\n",
    "totalcost = []\n",
    "clicknum = []\n",
    "ctr_p = []\n",
    "cpc_p = []\n",
    "for i in range(30):\n",
    "    bid_p = pbidprice(pCTR, base)\n",
    "    print(base)\n",
    "    win_num, total_cost, click_num, ctr, cpc = evaluation(bid_p,Payprice_val, clicks)\n",
    "#     print(base)\n",
    "    base += 1"
   ]
  },
  {
   "cell_type": "code",
   "execution_count": 27,
   "metadata": {
    "scrolled": true
   },
   "outputs": [
    {
     "name": "stdout",
     "output_type": "stream",
     "text": [
      "win_num 82565.0, total_cost [6249.965000000938], click_num 54.0, ctr 0.0006540301580572882, cpc [115.74009259260995]\n",
      "70.0\n",
      "win_num 82468.0, total_cost [6249.986000000933], click_num 54.0, ctr 0.0006547994373575205, cpc [115.74048148149876]\n",
      "71.0\n",
      "win_num 82374.0, total_cost [6249.973000000929], click_num 54.0, ctr 0.0006555466530701434, cpc [115.74024074075794]\n",
      "72.0\n",
      "win_num 82286.0, total_cost [6249.995000000922], click_num 54.0, ctr 0.0006562477213620786, cpc [115.74064814816522]\n",
      "73.0\n",
      "win_num 82208.0, total_cost [6249.990000000912], click_num 54.0, ctr 0.0006568703775788245, cpc [115.74055555557244]\n",
      "74.0\n",
      "win_num 82148.0, total_cost [6249.939000000914], click_num 54.0, ctr 0.000657350148512441, cpc [115.73961111112804]\n",
      "75.0\n",
      "win_num 82062.0, total_cost [6249.997000000914], click_num 54.0, ctr 0.0006580390436499232, cpc [115.74068518520211]\n",
      "76.0\n",
      "win_num 81987.0, total_cost [6249.981000000908], click_num 54.0, ctr 0.0006586410040616195, cpc [115.74038888890571]\n",
      "77.0\n",
      "win_num 81925.0, total_cost [6249.97800000091], click_num 54.0, ctr 0.0006591394568202624, cpc [115.74033333335018]\n",
      "78.0\n",
      "win_num 81849.0, total_cost [6249.982000000908], click_num 53.0, ctr 0.0006475338733521485, cpc [117.92418867926241]\n",
      "79.0\n",
      "win_num 81790.0, total_cost [6249.9980000009045], click_num 53.0, ctr 0.0006480009781146839, cpc [117.9244905660548]\n",
      "80.0\n",
      "win_num 81727.0, total_cost [6249.895000000909], click_num 53.0, ctr 0.0006485004955522654, cpc [117.92254716982848]\n",
      "81.0\n",
      "win_num 81690.0, total_cost [6249.853000000915], click_num 53.0, ctr 0.0006487942220590035, cpc [117.9217547169984]\n",
      "82.0\n",
      "win_num 81658.0, total_cost [6249.991000000912], click_num 52.0, ctr 0.0006368022728942663, cpc [120.19213461540215]\n",
      "83.0\n",
      "win_num 81613.0, total_cost [6249.965000000912], click_num 52.0, ctr 0.0006371533946797691, cpc [120.19163461540217]\n",
      "84.0\n",
      "win_num 81560.0, total_cost [6249.890000000914], click_num 52.0, ctr 0.0006375674350171653, cpc [120.19019230770989]\n",
      "85.0\n",
      "win_num 81512.0, total_cost [6249.78900000091], click_num 52.0, ctr 0.0006379428795760133, cpc [120.1882500000175]\n",
      "86.0\n",
      "win_num 81467.0, total_cost [6249.81100000091], click_num 52.0, ctr 0.0006382952606576896, cpc [120.18867307694057]\n",
      "87.0\n",
      "win_num 81401.0, total_cost [6249.8970000009085], click_num 52.0, ctr 0.0006388127909976535, cpc [120.19032692309439]\n",
      "88.0\n",
      "win_num 81355.0, total_cost [6249.992000000908], click_num 52.0, ctr 0.0006391739905353082, cpc [120.19215384617131]\n",
      "89.0\n",
      "win_num 81316.0, total_cost [6249.986000000907], click_num 52.0, ctr 0.0006394805450341876, cpc [120.1920384615559]\n",
      "90.0\n",
      "win_num 81276.0, total_cost [6249.947000000911], click_num 52.0, ctr 0.0006397952655150352, cpc [120.19128846155598]\n",
      "91.0\n",
      "win_num 81237.0, total_cost [6249.9990000009075], click_num 52.0, ctr 0.0006401024163866218, cpc [120.19228846155592]\n",
      "92.0\n",
      "win_num 81204.0, total_cost [6249.950000000905], click_num 52.0, ctr 0.0006403625437170583, cpc [120.19134615386355]\n",
      "93.0\n",
      "win_num 81170.0, total_cost [6249.990000000907], click_num 52.0, ctr 0.0006406307749168412, cpc [120.19211538463281]\n",
      "94.0\n",
      "win_num 81120.0, total_cost [6249.745000000906], click_num 52.0, ctr 0.000641025641025641, cpc [120.18740384617126]\n",
      "95.0\n",
      "win_num 81083.0, total_cost [6249.978000000902], click_num 52.0, ctr 0.0006413181554703205, cpc [120.19188461540196]\n",
      "96.0\n",
      "win_num 81051.0, total_cost [6249.991000000902], click_num 52.0, ctr 0.0006415713563065231, cpc [120.19213461540197]\n",
      "97.0\n",
      "win_num 81018.0, total_cost [6249.968000000903], click_num 52.0, ctr 0.0006418326791577181, cpc [120.19169230770967]\n",
      "98.0\n",
      "win_num 81000.0, total_cost [6249.9330000009], click_num 52.0, ctr 0.0006419753086419753, cpc [120.19101923078655]\n",
      "99.0\n"
     ]
    }
   ],
   "source": [
    "base = 70.\n",
    "bidp = []\n",
    "win_number = []\n",
    "totalcost = []\n",
    "clicknum = []\n",
    "ctr_p = []\n",
    "cpc_p = []\n",
    "for i in range(30):\n",
    "    bid_p = pbidprice(pCTR, base)\n",
    "    print(base)\n",
    "    win_num, total_cost, click_num, ctr, cpc = evaluation(bid_p,Payprice_val, clicks)\n",
    "#     print(base)\n",
    "    base += 1"
   ]
  },
  {
   "cell_type": "code",
   "execution_count": null,
   "metadata": {
    "collapsed": true
   },
   "outputs": [],
   "source": [
    "# # predict is not working without this code\n",
    "# bst.save_model(\"xgbb\")\n",
    "# bst = xgb.Booster(xgb_params)\n",
    "# bst.load_model(\"xgbb\")"
   ]
  },
  {
   "cell_type": "code",
   "execution_count": null,
   "metadata": {
    "collapsed": true
   },
   "outputs": [],
   "source": [
    "# # apply the model to test set:\n",
    "# p_test = bst.predict(dtest)\n",
    "# Cali_test = Cali_CTR(p_test, 0.0075)\n",
    "# bidprice_test = pbidprice(Cali_test, 80)\n",
    "# Y_test = np.array(Y_test)\n",
    "# Bid_id = Y_test[:,0]"
   ]
  },
  {
   "cell_type": "code",
   "execution_count": 34,
   "metadata": {},
   "outputs": [
    {
     "name": "stdout",
     "output_type": "stream",
     "text": [
      "10\n",
      "win_num 118206.0, total_cost [3896.811000000453], click_num 110.0, ctr 0.0009305788200260562, cpc [35.42555454545867]\n",
      "11\n",
      "win_num 129814.0, total_cost [4618.881000001353], click_num 117.0, ctr 0.0009012895373380375, cpc [39.477615384626944]\n",
      "12\n",
      "win_num 141062.0, total_cost [5357.932000002373], click_num 124.0, ctr 0.0008790460932072422, cpc [43.2091290322772]\n",
      "13\n",
      "win_num 152130.0, total_cost [6127.901000003224], click_num 131.0, ctr 0.0008611056333399067, cpc [46.777870229032246]\n",
      "14\n",
      "win_num 147155.0, total_cost [6249.993000003081], click_num 121.0, ctr 0.0008222622404947164, cpc [51.65283471076926]\n",
      "15\n",
      "win_num 140709.0, total_cost [6249.982000002898], click_num 116.0, ctr 0.0008243964494097748, cpc [53.87915517243877]\n",
      "16\n",
      "win_num 135348.0, total_cost [6249.988000002722], click_num 107.0, ctr 0.000790554718207879, cpc [58.41110280376376]\n",
      "17\n",
      "win_num 130647.0, total_cost [6249.956000002531], click_num 103.0, ctr 0.0007883839659540594, cpc [60.67918446604399]\n",
      "18\n",
      "win_num 126818.0, total_cost [6249.977000002439], click_num 98.0, ctr 0.0007727609645318488, cpc [63.77527551022897]\n",
      "19\n",
      "win_num 123188.0, total_cost [6249.996000002259], click_num 94.0, ctr 0.0007630613371432283, cpc [66.4893191489602]\n",
      "20\n",
      "win_num 119775.0, total_cost [6249.9780000020755], click_num 90.0, ctr 0.0007514088916718848, cpc [69.44420000002306]\n",
      "21\n",
      "win_num 116912.0, total_cost [6249.946000001934], click_num 87.0, ctr 0.0007441494457369645, cpc [71.83845977013718]\n",
      "22\n",
      "win_num 114529.0, total_cost [6249.856000001839], click_num 85.0, ctr 0.0007421701053881549, cpc [73.52771764708045]\n",
      "23\n",
      "win_num 112299.0, total_cost [6249.995000001764], click_num 84.0, ctr 0.000748003098869981, cpc [74.40470238097339]\n",
      "24\n",
      "win_num 110167.0, total_cost [6249.94600000168], click_num 79.0, ctr 0.0007170931404140986, cpc [79.11324050635038]\n",
      "25\n",
      "win_num 108127.0, total_cost [6249.996000001642], click_num 78.0, ctr 0.0007213739399040017, cpc [80.1281538461749]\n",
      "26\n",
      "win_num 106396.0, total_cost [6249.969000001597], click_num 77.0, ctr 0.0007237114177224708, cpc [81.16842857144931]\n",
      "27\n",
      "win_num 104786.0, total_cost [6249.968000001561], click_num 75.0, ctr 0.0007157444696810643, cpc [83.33290666668749]\n",
      "28\n",
      "win_num 103304.0, total_cost [6249.946000001468], click_num 75.0, ctr 0.0007260125454967861, cpc [83.33261333335291]\n",
      "29\n",
      "win_num 101876.0, total_cost [6249.8870000014385], click_num 72.0, ctr 0.0007067415289175075, cpc [86.8039861111311]\n",
      "30\n",
      "win_num 100470.0, total_cost [6249.9350000014], click_num 68.0, ctr 0.0006768189509306261, cpc [91.91080882355]\n",
      "31\n",
      "win_num 99273.0, total_cost [6249.971000001389], click_num 67.0, ctr 0.0006749065707694942, cpc [93.28314925375207]\n",
      "32\n",
      "win_num 98090.0, total_cost [6249.991000001353], click_num 64.0, ctr 0.0006524620246712203, cpc [97.65610937502115]\n",
      "33\n",
      "win_num 96912.0, total_cost [6249.976000001342], click_num 63.0, ctr 0.000650074294205052, cpc [99.20596825398955]\n",
      "34\n",
      "win_num 95837.0, total_cost [6249.983000001334], click_num 63.0, ctr 0.0006573661529471916, cpc [99.20607936510055]\n",
      "35\n",
      "win_num 94818.0, total_cost [6249.997000001339], click_num 63.0, ctr 0.0006644308042776688, cpc [99.20630158732284]\n",
      "36\n",
      "win_num 93715.0, total_cost [6249.924000001313], click_num 63.0, ctr 0.0006722509736968468, cpc [99.20514285716371]\n",
      "37\n",
      "win_num 92922.0, total_cost [6249.964000001284], click_num 63.0, ctr 0.0006779879899270355, cpc [99.20577777779816]\n",
      "38\n",
      "win_num 92134.0, total_cost [6249.994000001256], click_num 60.0, ctr 0.00065122538910717, cpc [104.1665666666876]\n",
      "39\n",
      "win_num 91433.0, total_cost [6249.90800000123], click_num 60.0, ctr 0.0006562182144302385, cpc [104.16513333335384]\n"
     ]
    }
   ],
   "source": [
    "#use single model to test data\n",
    "base = 10\n",
    "bidp = []\n",
    "win_number = []\n",
    "totalcost = []\n",
    "clicknum = []\n",
    "ctr_p = []\n",
    "cpc_p = []\n",
    "for i in range(30):\n",
    "    bid_p = pbidprice(pCTR, base)\n",
    "    print(base)\n",
    "    win_num, total_cost, click_num, ctr, cpc = evaluation(bid_p,Payprice_val, clicks)\n",
    "#     print(base,bid_p)\n",
    "#     win_number.append(win_num)\n",
    "#     totalcost.append(total_cost)\n",
    "#     clicknum.append(click_num)\n",
    "#     ctr_p.append(ctr)\n",
    "#     cpc_p.append(cpc)\n",
    "#     bidp.append(bid_p)\n",
    "    base += 1\n"
   ]
  },
  {
   "cell_type": "code",
   "execution_count": null,
   "metadata": {
    "collapsed": true
   },
   "outputs": [],
   "source": []
  }
 ],
 "metadata": {
  "kernelspec": {
   "display_name": "Python 3",
   "language": "python",
   "name": "python3"
  },
  "language_info": {
   "codemirror_mode": {
    "name": "ipython",
    "version": 3
   },
   "file_extension": ".py",
   "mimetype": "text/x-python",
   "name": "python",
   "nbconvert_exporter": "python",
   "pygments_lexer": "ipython3",
   "version": "3.6.2"
  }
 },
 "nbformat": 4,
 "nbformat_minor": 2
}
